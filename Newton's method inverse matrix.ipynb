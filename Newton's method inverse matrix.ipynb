{
 "cells": [
  {
   "cell_type": "code",
   "execution_count": 1,
   "metadata": {},
   "outputs": [],
   "source": [
    "import pandas as pd\n",
    "import numpy as np\n",
    "import matplotlib.pyplot as plt\n",
    "import os\n",
    "os.chdir('/Users/sosuke/Downloads')"
   ]
  },
  {
   "cell_type": "markdown",
   "metadata": {},
   "source": [
    "We will apply Newton method to compute the inverse $A^{-1}$ of an invertible matrix $A\\in\\mathbb{R}\n",
    "^{n\\times n}$.\n",
    "Consider the function $g(X)=X^{-1}$ defined for invertible $n\\times n$\n",
    "matrices $X$. The derivative of $g$ at $X$ is given by\n",
    "$$\n",
    "[Dg(X)](H)=-X^{-1}HX^{-1}.\n",
    "$$"
   ]
  },
  {
   "cell_type": "code",
   "execution_count": 2,
   "metadata": {},
   "outputs": [],
   "source": [
    "def inverse(A, eps=0.000001):\n",
    "    '''\n",
    "    Given a matrix A and tolerance eps, calculate the inverse of A within error of eps.\n",
    "    '''\n",
    "    \n",
    "    A_norm = np.trace(np.dot(np.transpose(A), A)) # ||A||^2\n",
    "    X = np.transpose(A)/A_norm # Initialize X, alpha = 1/||A||^2\n",
    "    \n",
    "    while True:\n",
    "        error = np.identity(A.shape[0]) - np.dot(A, X)\n",
    "        if np.trace(np.dot(error, error))**0.5 < eps: # Stopping condition: ||I-AX_k|| < epsilon\n",
    "            break\n",
    "        X = np.dot(X, np.identity(A.shape[0])+error) # Update X\n",
    "            \n",
    "    return X"
   ]
  },
  {
   "cell_type": "code",
   "execution_count": 7,
   "metadata": {},
   "outputs": [],
   "source": [
    "# Generate random matrices\n",
    "\n",
    "np.random.seed(0)\n",
    "A_2 = np.random.randint(5,size = (2,2)) # 2 by 2 matrix with integer entries\n",
    "A_10 = np.diag((1/np.random.randint(1, 10,size = (10)))) # 10 by 10 diagonal matrix with rational entries"
   ]
  },
  {
   "cell_type": "code",
   "execution_count": 8,
   "metadata": {},
   "outputs": [
    {
     "data": {
      "text/plain": [
       "array([[ 2.50000000e-01,  2.15141676e-10],\n",
       "       [-2.49999999e-01,  3.33333333e-01]])"
      ]
     },
     "execution_count": 8,
     "metadata": {},
     "output_type": "execute_result"
    }
   ],
   "source": [
    "A_2_calc = inverse(A_2)\n",
    "A_2_calc"
   ]
  },
  {
   "cell_type": "markdown",
   "metadata": {},
   "source": [
    "The inverse of $A_2$ is analytically given by"
   ]
  },
  {
   "cell_type": "markdown",
   "metadata": {},
   "source": [
    "$$A_2^{-1} = \\frac{1}{4 \\times 3-3 \\times 0} \\begin{bmatrix} 3 & 0 \\\\ -3 & 4 \\end{bmatrix} =  \\begin{bmatrix} 0.25 & 0 \\\\ -0.25 & 0.3333333... \\end{bmatrix} $$"
   ]
  },
  {
   "cell_type": "markdown",
   "metadata": {},
   "source": [
    "We can observe that the calculated inverse of $A_2$ is very close to the analytical value."
   ]
  },
  {
   "cell_type": "markdown",
   "metadata": {},
   "source": [
    "Forward error is given by"
   ]
  },
  {
   "cell_type": "code",
   "execution_count": 9,
   "metadata": {},
   "outputs": [
    {
     "data": {
      "text/plain": [
       "7.735605939470477e-10"
      ]
     },
     "execution_count": 9,
     "metadata": {},
     "output_type": "execute_result"
    }
   ],
   "source": [
    "A_2_analyt = np.array(([0.25, 0], [-0.25, 0.33333333333]))\n",
    "np.trace(np.dot(np.transpose(A_2_calc-A_2_analyt), A_2_calc-A_2_analyt))**0.5"
   ]
  },
  {
   "cell_type": "markdown",
   "metadata": {},
   "source": [
    "We can see that the forward error value is very small, meaning that the algorithm is quite accurate."
   ]
  },
  {
   "cell_type": "code",
   "execution_count": 10,
   "metadata": {},
   "outputs": [
    {
     "data": {
      "text/plain": [
       "array([[4.        , 0.        , 0.        , 0.        , 0.        ,\n",
       "        0.        , 0.        , 0.        , 0.        , 0.        ],\n",
       "       [0.        , 8.        , 0.        , 0.        , 0.        ,\n",
       "        0.        , 0.        , 0.        , 0.        , 0.        ],\n",
       "       [0.        , 0.        , 4.        , 0.        , 0.        ,\n",
       "        0.        , 0.        , 0.        , 0.        , 0.        ],\n",
       "       [0.        , 0.        , 0.        , 6.        , 0.        ,\n",
       "        0.        , 0.        , 0.        , 0.        , 0.        ],\n",
       "       [0.        , 0.        , 0.        , 0.        , 3.        ,\n",
       "        0.        , 0.        , 0.        , 0.        , 0.        ],\n",
       "       [0.        , 0.        , 0.        , 0.        , 0.        ,\n",
       "        5.        , 0.        , 0.        , 0.        , 0.        ],\n",
       "       [0.        , 0.        , 0.        , 0.        , 0.        ,\n",
       "        0.        , 8.        , 0.        , 0.        , 0.        ],\n",
       "       [0.        , 0.        , 0.        , 0.        , 0.        ,\n",
       "        0.        , 0.        , 7.        , 0.        , 0.        ],\n",
       "       [0.        , 0.        , 0.        , 0.        , 0.        ,\n",
       "        0.        , 0.        , 0.        , 8.99999959, 0.        ],\n",
       "       [0.        , 0.        , 0.        , 0.        , 0.        ,\n",
       "        0.        , 0.        , 0.        , 0.        , 8.99999959]])"
      ]
     },
     "execution_count": 10,
     "metadata": {},
     "output_type": "execute_result"
    }
   ],
   "source": [
    "A_10_calc = inverse(A_10)\n",
    "A_10_calc"
   ]
  },
  {
   "cell_type": "markdown",
   "metadata": {},
   "source": [
    "The inverse of $A_{10}$ is analytically given by taking the inverse of each diagonal entry, i.e."
   ]
  },
  {
   "cell_type": "markdown",
   "metadata": {},
   "source": [
    "$$A_{10}^{-1} = \\begin{bmatrix} \\frac{1}{0.25} & 0 & 0 & 0 & 0 & 0 & 0 & 0 & 0 & 0\\\\ 0 & \\frac{1}{0.125} & 0 & 0 & 0 & 0 & 0 & 0 & 0 & 0\\\\ 0 & 0 & \\frac{1}{0.25} & 0 & 0 & 0 & 0 & 0 & 0 & 0 \\\\ 0 & 0 & 0 & \\frac{1}{0.16666667} & 0 & 0 & 0 & 0 & 0 & 0 \\\\ 0 & 0 & 0 & 0 & \\frac{1}{0.33333333} & 0 & 0 & 0 & 0 & 0 \\\\ 0 & 0 & 0 & 0 & 0 & \\frac{1}{0.2} & 0 & 0 & 0 & 0 \\\\ 0 & 0 & 0 & 0 & 0 & 0 & \\frac{1}{0.125} & 0 & 0 & 0  \\\\ 0 & 0 & 0 & 0 & 0 & 0 & 0 & \\frac{1}{0.14285714} & 0 & 0 \\\\ 0 & 0 & 0 & 0 & 0 & 0 & 0 & 0 & \\frac{1}{0.11111111} & 0 \\\\ 0 & 0 & 0 & 0 & 0 & 0 & 0 & 0 & 0 & \\frac{1}{0.11111111} \\end{bmatrix} $$\n",
    "$$=  \\begin{bmatrix} 4 & 0 & 0 & 0 & 0 & 0 & 0 & 0 & 0 & 0\\\\ 0 & 8 & 0 & 0 & 0 & 0 & 0 & 0 & 0 & 0\\\\ 0 & 0 & 4 & 0 & 0 & 0 & 0 & 0 & 0 & 0 \\\\ 0 & 0 & 0 & 6 & 0 & 0 & 0 & 0 & 0 & 0 \\\\ 0 & 0 & 0 & 0 & 3 & 0 & 0 & 0 & 0 & 0\\\\ 0 & 0 & 0 & 0 & 0 & 5 & 0 & 0 & 0 & 0 \\\\ 0 & 0 & 0 & 0  & 0 & 0 & 8 & 0 & 0 & 0 \\\\ 0 & 0 & 0 & 0 & 0 & 0 & 0 & 7 & 0 & 0 \\\\ 0 & 0 & 0 & 0 & 0 & 0 & 0 & 0 & 9 & 0 \\\\ 0 & 0 & 0 & 0 & 0 & 0 & 0 & 0 & 0 & 9\\end{bmatrix} $$"
   ]
  },
  {
   "cell_type": "markdown",
   "metadata": {},
   "source": [
    "We can observe that the calculated inverse of $A_{10}$ is very close to the analytical value."
   ]
  },
  {
   "cell_type": "markdown",
   "metadata": {},
   "source": [
    "Forward error is given by"
   ]
  },
  {
   "cell_type": "code",
   "execution_count": 11,
   "metadata": {},
   "outputs": [
    {
     "data": {
      "text/plain": [
       "5.825978580790584e-07"
      ]
     },
     "execution_count": 11,
     "metadata": {},
     "output_type": "execute_result"
    }
   ],
   "source": [
    "A_10_analyt = np.diag(np.array([4, 8, 4, 6, 3, 5, 8, 7, 9, 9]))\n",
    "np.trace(np.dot(np.transpose(A_10_calc-A_10_analyt), A_10_calc-A_10_analyt))**0.5 # Forward error"
   ]
  },
  {
   "cell_type": "markdown",
   "metadata": {},
   "source": [
    "We can again see that the forward error value is very small, meaning that the algorithm is quite accurate."
   ]
  },
  {
   "cell_type": "code",
   "execution_count": 5,
   "metadata": {},
   "outputs": [],
   "source": [
    "# Create more examples and calculate the backward error\n",
    "\n",
    "\n",
    "np.random.seed(0)\n",
    "error_x = [] # list that stores errors calculated from the function I wrote above\n",
    "error_y = [] # list that stores errors calculated from the numpy function\n",
    "for i in [10, 100, 1000]:\n",
    "    mat = np.random.rand(i, i)\n",
    "    inv_x = inverse(mat)\n",
    "    inv_y = np.linalg.inv(mat)\n",
    "    \n",
    "    # Error from the function I wrote\n",
    "    error_x.append(np.trace(np.dot(np.transpose(np.identity(mat.shape[0])-np.dot(mat, inv_x)), \n",
    "                                   np.identity(mat.shape[0])-np.dot(mat, inv_x)))**0.5)\n"
   ]
  },
  {
   "cell_type": "code",
   "execution_count": 6,
   "metadata": {},
   "outputs": [
    {
     "data": {
      "text/plain": [
       "[2.107775400400635e-11, 7.779056652687009e-09, 3.268728663894259e-10]"
      ]
     },
     "execution_count": 6,
     "metadata": {},
     "output_type": "execute_result"
    }
   ],
   "source": [
    "error_x"
   ]
  }
 ],
 "metadata": {
  "kernelspec": {
   "display_name": "Python 3",
   "language": "python",
   "name": "python3"
  },
  "language_info": {
   "codemirror_mode": {
    "name": "ipython",
    "version": 3
   },
   "file_extension": ".py",
   "mimetype": "text/x-python",
   "name": "python",
   "nbconvert_exporter": "python",
   "pygments_lexer": "ipython3",
   "version": "3.7.4"
  }
 },
 "nbformat": 4,
 "nbformat_minor": 2
}
