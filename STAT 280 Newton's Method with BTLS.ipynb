{
 "cells": [
  {
   "cell_type": "code",
   "execution_count": 1,
   "metadata": {},
   "outputs": [],
   "source": [
    "import pandas as pd\n",
    "import numpy as np\n",
    "from scipy.linalg import diagsvd\n",
    "import matplotlib.pyplot as plt\n",
    "import os\n",
    "os.chdir('/Users/sosuke/Downloads')"
   ]
  },
  {
   "cell_type": "markdown",
   "metadata": {},
   "source": [
    "$$\n",
    "f(x_{1},\\dots,x_{100})=\\sum\\nolimits_{j=1}^{100}c_{j}x_{j}-\\sum\\nolimits_{i=1}\n",
    "^{500}\\log\\left(  b_{i}-\\sum\\nolimits_{j=1}^{100}a_{ij}x_{j}\\right)  .\n",
    "$$"
   ]
  },
  {
   "cell_type": "markdown",
   "metadata": {},
   "source": [
    "$$\\nabla f(x_1,...,x_{100}) =\n",
    "\\begin{bmatrix} c_1 + \\sum_{i=1}^{500} \\frac{a_{i1}}{b_i - \\sum_{j=1}^{100} a_{ij} x_j} \\\\ c_2 + \\sum_{i=1}^{500} \\frac{a_{i2}}{b_i - \\sum_{j=1}^{100} a_{ij} x_j} \\\\ \\vdots \\\\ c_{100} + \\sum_{i=1}^{500} \\frac{a_{i100}}{b_i - \\sum_{j=1}^{100} a_{ij} x_j} \\end{bmatrix} = c+ \\begin{bmatrix} \\sum_{i=1}^{500} \\frac{a_{i1}}{b_i - \\sum_{j=1}^{100} a_{ij} x_j} \\\\ \\sum_{i=1}^{500} \\frac{a_{i2}}{b_i - \\sum_{j=1}^{100} a_{ij} x_j} \\\\ \\vdots \\\\ \\sum_{i=1}^{500} \\frac{a_{i100}}{b_i - \\sum_{j=1}^{100} a_{ij} x_j} \\end{bmatrix}$$"
   ]
  },
  {
   "cell_type": "markdown",
   "metadata": {},
   "source": [
    "$$\\nabla^2 f(x_1,...,x_{100}) =\n",
    "\\begin{bmatrix} \\sum_{i=1}^{500} \\frac{a_{i1}^2}{(b_i - \\sum_{j=1}^{100} a_{ij} x_j)^2} & \\sum_{i=1}^{500} \\frac{a_{i1}a_{i2}}{(b_i - \\sum_{j=1}^{100} a_{ij} x_j)^2} & \\ldots & \\sum_{i=1}^{500} \\frac{a_{i1}a_{i100}}{(b_i - \\sum_{j=1}^{100} a_{ij} x_j)^2}\\\\ \\sum_{i=1}^{500} \\frac{a_{i2}a_{i1}}{(b_i - \\sum_{j=1}^{100} a_{ij} x_j)^2} & \\sum_{i=1}^{500} \\frac{a_{i2}^2}{(b_i - \\sum_{j=1}^{100} a_{ij} x_j)^2} & \\ldots & \\sum_{i=1}^{500} \\frac{a_{i2}a_{i100}}{(b_i - \\sum_{j=1}^{100} a_{ij} x_j)^2} \\\\ \\vdots & \\vdots & \\ddots & \\vdots \\\\ \\sum_{i=1}^{500} \\frac{a_{i1}a_{i100}}{(b_i - \\sum_{j=1}^{100} a_{ij} x_j)^2} & \\sum_{i=1}^{500} \\frac{a_{i2}a_{i100}}{(b_i - \\sum_{j=1}^{100} a_{ij} x_j)^2} & \\ldots & \\sum_{i=1}^{500}  \\frac{a_{i100}a_{i100}}{(b_i - \\sum_{j=1}^{100} a_{ij} x_j)^2} \\end{bmatrix}$$"
   ]
  },
  {
   "cell_type": "code",
   "execution_count": 7,
   "metadata": {},
   "outputs": [],
   "source": [
    "def objectivefun(A, b, c, x):\n",
    "    '''\n",
    "    Given a matrix A, vector b, vector c, calculate the value of the objective function at x\n",
    "    '''\n",
    "    f = np.dot(c, x)\n",
    "    for i in range(500):\n",
    "        if b[i] - np.dot(A[i, :], x) <= 0: # Avoid -inf for negative values\n",
    "            f+=10000000000\n",
    "        else:\n",
    "            f -= np.log(b[i] - np.dot(A[i, :], x))\n",
    "    return f\n",
    "\n",
    "def objectivegradient(A, b, c, x):\n",
    "    '''\n",
    "    Given a matrix A, vector b, vector c, calculate the value of the gradient of the objective function at x\n",
    "    '''\n",
    "    \n",
    "    g = np.copy(c)\n",
    "\n",
    "    for i in range(500):\n",
    "        den = np.dot(A[i, :], x)\n",
    "        for j in range(100):\n",
    "            g[j] += A[i,j]/(b[i] - den)\n",
    "    return g\n",
    "\n",
    "def objectivehessian(A, b, c, x):\n",
    "    '''\n",
    "    Given a matrix A, vector b, vector c, calculate the value of the hessian of the objective function at x\n",
    "    '''\n",
    "    h = np.zeros((100, 100))\n",
    "    for i in range(500):\n",
    "        den = np.dot(A[i, :], x)\n",
    "        for k in range(100):\n",
    "            for j in range(100):\n",
    "                h[j, k] += A[i,j]*A[i,k]/((b[i] - den)**2)\n",
    "    return h"
   ]
  },
  {
   "cell_type": "code",
   "execution_count": 8,
   "metadata": {},
   "outputs": [],
   "source": [
    "def newton(A, b, c, cp, rho, x0, a0, eps, search=True):\n",
    "    '''\n",
    "    Given a matrix A, vector b, vector c, line search parameters (cp and rho), starting point x0, \n",
    "    initial step size a0, and tolerance eps, whether to do line search (boolean),\n",
    "    find a global minimum to the given objective function using Newton's method.\n",
    "    '''\n",
    "    \n",
    "    x = np.copy(x0) # Initialize x\n",
    "    x_array = [np.copy(x)] # Store x0\n",
    "    k = 0 # Initialize number of steps\n",
    "    \n",
    "    while True: \n",
    "        hes_inv = np.linalg.inv(objectivehessian(A, b, c, x))\n",
    "        grad = objectivegradient(A, b, c, x)\n",
    "        p = - np.dot(hes_inv, grad)\n",
    "        lam_sq = np.dot(np.dot(np.transpose(grad), hes_inv), grad)\n",
    "        if lam_sq/2 <= eps:\n",
    "            break\n",
    "        alpha = a0 # Initialize step size\n",
    "        if search==True:\n",
    "            while objectivefun(A, b, c, x+alpha*p) > objectivefun(A, b, c, x) + cp*alpha*np.dot(grad, p): # Armijo not satisfied\n",
    "                alpha = rho*alpha # Update alpha\n",
    "            \n",
    "        k += 1 # Update step size\n",
    "        x = x + alpha*p # Update x\n",
    "        x_array = np.append(x_array, [x], axis=0) # Store new x\n",
    "        \n",
    "        \n",
    "        if k == 15: # Maximum iterations\n",
    "            print('Maximum iteration reached')\n",
    "            break\n",
    "    return x_array\n",
    "    "
   ]
  },
  {
   "cell_type": "code",
   "execution_count": 9,
   "metadata": {},
   "outputs": [],
   "source": [
    "## Generate random example\n",
    "\n",
    "a0 = 1 # initial step size \n",
    "\n",
    "# Set seed for reproducibility\n",
    "\n",
    "np.random.seed(1)\n",
    "A = np.random.randn(500,100)\n",
    "x0 = np.random.randn(100)\n",
    "c = np.random.randn(100)\n",
    "\n",
    "# Generate b so that x satisfies the constraint\n",
    "\n",
    "b = np.zeros(500)\n",
    "for i in range(500):\n",
    "    b[i] = np.dot(A[i,:], x0) +10*np.random.rand(1)"
   ]
  },
  {
   "cell_type": "code",
   "execution_count": 10,
   "metadata": {},
   "outputs": [],
   "source": [
    "# Set Hyperparameters\n",
    "\n",
    "#cp_list = np.array([0.01, 0.05, 0.1, 0.25, 0.5, 0.75, 0.9])\n",
    "cp_list = [0.25 , 0.75]\n",
    "#rho_list = np.array([0.05 , 0.25, 0.5, 0.75, 0.95])\n",
    "rho_list = [0.25, 0.75]\n",
    "#eps_list = np.array([10**(-3), 10**(-5) , 10**(-8)])\n",
    "eps_list = [10**(-3), 10**(-5)]"
   ]
  },
  {
   "cell_type": "code",
   "execution_count": 11,
   "metadata": {},
   "outputs": [
    {
     "name": "stdout",
     "output_type": "stream",
     "text": [
      "Maximum iteration reached\n",
      "Maximum iteration reached\n",
      "Maximum iteration reached\n",
      "Maximum iteration reached\n"
     ]
    }
   ],
   "source": [
    "x_error_list_stp = [] # list that stores errors and parameters\n",
    "x_error_list_new = [] # list that stores errors and parameters\n",
    "\n",
    "# Hyperparameter tuning\n",
    "\n",
    "for cp_p in cp_list:\n",
    "    for rho_p in rho_list:\n",
    "        for eps_p in eps_list:\n",
    "            \n",
    "            # Newton's method\n",
    "            x_newton_tune = newton(A, b, c, cp_p, rho_p, x0, a0, eps_p)\n",
    "            x_plot_newton_tune = np.zeros(x_newton_tune.shape[0])\n",
    "            \n",
    "            #  Calculate log error of Newton\n",
    "            for i in range(x_newton_tune.shape[0]):\n",
    "                x_plot_newton_tune[i] = np.log(objectivefun(A, b, c, x_newton_tune[i]) - objectivefun(A, b, c, x_newton_tune[-1])+0.0001)\n",
    "            x_error_list_new.append((x_plot_newton_tune, cp_p, rho_p, eps_p))"
   ]
  },
  {
   "cell_type": "code",
   "execution_count": 12,
   "metadata": {},
   "outputs": [
    {
     "data": {
      "image/png": "[encoded data removed]",
      "text/plain": [
       "<Figure size 432x288 with 1 Axes>"
      ]
     },
     "metadata": {
      "needs_background": "light"
     },
     "output_type": "display_data"
    }
   ],
   "source": [
    "for error in x_error_list_new:\n",
    "    plt.plot(error[0], label='(c, rho, epsilon) = ({},{},{})'.format(error[1], error[2], error[3]))\n",
    "plt.xlabel('number of iterations k') \n",
    "plt.ylabel('$log(e_k)$') \n",
    "plt.title(\"log error vs number of iterations for Newton's method with different hyper-parameters\") \n",
    "plt.legend()\n",
    "plt.show() "
   ]
  },
  {
   "cell_type": "markdown",
   "metadata": {},
   "source": [
    "$(c, \\rho, \\epsilon) = (0.25, 0.75, 10^{-3})$ gives the fastest convergence for Newton's method."
   ]
  }
 ],
 "metadata": {
  "kernelspec": {
   "display_name": "Python 3",
   "language": "python",
   "name": "python3"
  },
  "language_info": {
   "codemirror_mode": {
    "name": "ipython",
    "version": 3
   },
   "file_extension": ".py",
   "mimetype": "text/x-python",
   "name": "python",
   "nbconvert_exporter": "python",
   "pygments_lexer": "ipython3",
   "version": "3.7.4"
  }
 },
 "nbformat": 4,
 "nbformat_minor": 2
}
